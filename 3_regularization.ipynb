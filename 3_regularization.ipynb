{
 "cells": [
  {
   "cell_type": "markdown",
   "metadata": {
    "colab_type": "text",
    "id": "kR-4eNdK6lYS"
   },
   "source": [
    "Deep Learning\n",
    "=============\n",
    "\n",
    "Assignment 3\n",
    "------------\n",
    "\n",
    "Previously in `2_fullyconnected.ipynb`, you trained a logistic regression and a neural network model.\n",
    "\n",
    "The goal of this assignment is to explore regularization techniques."
   ]
  },
  {
   "cell_type": "code",
   "execution_count": 1,
   "metadata": {
    "cellView": "both",
    "colab": {
     "autoexec": {
      "startup": false,
      "wait_interval": 0
     }
    },
    "colab_type": "code",
    "collapsed": true,
    "id": "JLpLa8Jt7Vu4"
   },
   "outputs": [],
   "source": [
    "# These are all the modules we'll be using later. Make sure you can import them\n",
    "# before proceeding further.\n",
    "from __future__ import print_function\n",
    "import numpy as np\n",
    "import tensorflow as tf\n",
    "from six.moves import cPickle as pickle"
   ]
  },
  {
   "cell_type": "markdown",
   "metadata": {
    "colab_type": "text",
    "id": "1HrCK6e17WzV"
   },
   "source": [
    "First reload the data we generated in _notmist.ipynb_."
   ]
  },
  {
   "cell_type": "code",
   "execution_count": 2,
   "metadata": {
    "cellView": "both",
    "colab": {
     "autoexec": {
      "startup": false,
      "wait_interval": 0
     },
     "output_extras": [
      {
       "item_id": 1
      }
     ]
    },
    "colab_type": "code",
    "collapsed": false,
    "executionInfo": {
     "elapsed": 11777,
     "status": "ok",
     "timestamp": 1449849322348,
     "user": {
      "color": "",
      "displayName": "",
      "isAnonymous": false,
      "isMe": true,
      "permissionId": "",
      "photoUrl": "",
      "sessionId": "0",
      "userId": ""
     },
     "user_tz": 480
    },
    "id": "y3-cj1bpmuxc",
    "outputId": "e03576f1-ebbe-4838-c388-f1777bcc9873"
   },
   "outputs": [
    {
     "name": "stdout",
     "output_type": "stream",
     "text": [
      "Training set (200000, 28, 28) (200000,)\n",
      "Validation set (10000, 28, 28) (10000,)\n",
      "Test set (10000, 28, 28) (10000,)\n"
     ]
    }
   ],
   "source": [
    "pickle_file = 'notMNIST.pickle'\n",
    "\n",
    "with open(pickle_file, 'rb') as f:\n",
    "  save = pickle.load(f)\n",
    "  train_dataset = save['train_dataset']\n",
    "  train_labels = save['train_labels']\n",
    "  valid_dataset = save['valid_dataset']\n",
    "  valid_labels = save['valid_labels']\n",
    "  test_dataset = save['test_dataset']\n",
    "  test_labels = save['test_labels']\n",
    "  del save  # hint to help gc free up memory\n",
    "  print('Training set', train_dataset.shape, train_labels.shape)\n",
    "  print('Validation set', valid_dataset.shape, valid_labels.shape)\n",
    "  print('Test set', test_dataset.shape, test_labels.shape)"
   ]
  },
  {
   "cell_type": "markdown",
   "metadata": {
    "colab_type": "text",
    "id": "L7aHrm6nGDMB"
   },
   "source": [
    "Reformat into a shape that's more adapted to the models we're going to train:\n",
    "- data as a flat matrix,\n",
    "- labels as float 1-hot encodings."
   ]
  },
  {
   "cell_type": "code",
   "execution_count": 3,
   "metadata": {
    "cellView": "both",
    "colab": {
     "autoexec": {
      "startup": false,
      "wait_interval": 0
     },
     "output_extras": [
      {
       "item_id": 1
      }
     ]
    },
    "colab_type": "code",
    "collapsed": false,
    "executionInfo": {
     "elapsed": 11728,
     "status": "ok",
     "timestamp": 1449849322356,
     "user": {
      "color": "",
      "displayName": "",
      "isAnonymous": false,
      "isMe": true,
      "permissionId": "",
      "photoUrl": "",
      "sessionId": "0",
      "userId": ""
     },
     "user_tz": 480
    },
    "id": "IRSyYiIIGIzS",
    "outputId": "3f8996ee-3574-4f44-c953-5c8a04636582"
   },
   "outputs": [
    {
     "name": "stdout",
     "output_type": "stream",
     "text": [
      "Training set (200000, 784) (200000, 10)\n",
      "Validation set (10000, 784) (10000, 10)\n",
      "Test set (10000, 784) (10000, 10)\n"
     ]
    }
   ],
   "source": [
    "image_size = 28\n",
    "num_labels = 10\n",
    "\n",
    "def reformat(dataset, labels):\n",
    "  dataset = dataset.reshape((-1, image_size * image_size)).astype(np.float32)\n",
    "  # Map 2 to [0.0, 1.0, 0.0 ...], 3 to [0.0, 0.0, 1.0 ...]\n",
    "  labels = (np.arange(num_labels) == labels[:,None]).astype(np.float32)\n",
    "  return dataset, labels\n",
    "train_dataset, train_labels = reformat(train_dataset, train_labels)\n",
    "valid_dataset, valid_labels = reformat(valid_dataset, valid_labels)\n",
    "test_dataset, test_labels = reformat(test_dataset, test_labels)\n",
    "print('Training set', train_dataset.shape, train_labels.shape)\n",
    "print('Validation set', valid_dataset.shape, valid_labels.shape)\n",
    "print('Test set', test_dataset.shape, test_labels.shape)"
   ]
  },
  {
   "cell_type": "code",
   "execution_count": 4,
   "metadata": {
    "cellView": "both",
    "colab": {
     "autoexec": {
      "startup": false,
      "wait_interval": 0
     }
    },
    "colab_type": "code",
    "collapsed": true,
    "id": "RajPLaL_ZW6w"
   },
   "outputs": [],
   "source": [
    "def accuracy(predictions, labels):\n",
    "  return (100.0 * np.sum(np.argmax(predictions, 1) == np.argmax(labels, 1))\n",
    "          / predictions.shape[0])"
   ]
  },
  {
   "cell_type": "markdown",
   "metadata": {
    "colab_type": "text",
    "id": "sgLbUAQ1CW-1"
   },
   "source": [
    "---\n",
    "Problem 1\n",
    "---------\n",
    "\n",
    "Introduce and tune L2 regularization for both logistic and neural network models. Remember that L2 amounts to adding a penalty on the norm of the weights to the loss. In TensorFlow, you can compute the L2 loss for a tensor `t` using `nn.l2_loss(t)`. The right amount of regularization should improve your validation / test accuracy.\n",
    "\n",
    "---"
   ]
  },
  {
   "cell_type": "code",
   "execution_count": 34,
   "metadata": {
    "collapsed": false
   },
   "outputs": [],
   "source": [
    "def evaluate(graph, batch_size, train_dataset, train_labels, train_prediction,\n",
    "             valid_prediction, valid_labels, test_prediction, test_labels):\n",
    "  num_steps = 3001\n",
    "\n",
    "  with tf.Session(graph=graph) as session:\n",
    "    tf.initialize_all_variables().run()\n",
    "    print(\"Initialized\")\n",
    "    for step in range(num_steps):\n",
    "      # Pick an offset within the training data, which has been randomized.\n",
    "      # Note: we could use better randomization across epochs.\n",
    "      offset = (step * batch_size) % (train_labels.shape[0] - batch_size)\n",
    "      # Generate a minibatch.\n",
    "      batch_data = train_dataset[offset:(offset + batch_size), :]\n",
    "      batch_labels = train_labels[offset:(offset + batch_size), :]\n",
    "      # Prepare a dictionary telling the session where to feed the minibatch.\n",
    "      # The key of the dictionary is the placeholder node of the graph to be fed,\n",
    "      # and the value is the numpy array to feed to it.\n",
    "      feed_dict = {tf_train_dataset : batch_data, tf_train_labels : batch_labels}\n",
    "      _, l, predictions = session.run(\n",
    "        [optimizer, loss, train_prediction], feed_dict=feed_dict)\n",
    "      if (step % 500 == 0):\n",
    "        print(\"Minibatch loss at step %d: %f\" % (step, l))\n",
    "        print(\"Minibatch accuracy: %.1f%%\" % accuracy(predictions, batch_labels))\n",
    "        print(\"Validation accuracy: %.1f%%\" % accuracy(\n",
    "          valid_prediction.eval(), valid_labels))\n",
    "    print(\"Test accuracy: %.1f%%\" % accuracy(test_prediction.eval(), test_labels))"
   ]
  },
  {
   "cell_type": "markdown",
   "metadata": {},
   "source": [
    "### Logstic Regression with L2 loss"
   ]
  },
  {
   "cell_type": "code",
   "execution_count": 56,
   "metadata": {
    "collapsed": false
   },
   "outputs": [
    {
     "name": "stdout",
     "output_type": "stream",
     "text": [
      "Initialized\n",
      "Minibatch loss at step 0: 20.935780\n",
      "Minibatch accuracy: 10.2%\n",
      "Validation accuracy: 11.3%\n",
      "Minibatch loss at step 500: 3.137359\n",
      "Minibatch accuracy: 78.9%\n",
      "Validation accuracy: 75.5%\n",
      "Minibatch loss at step 1000: 1.669803\n",
      "Minibatch accuracy: 78.1%\n",
      "Validation accuracy: 77.6%\n",
      "Minibatch loss at step 1500: 1.229635\n",
      "Minibatch accuracy: 80.5%\n",
      "Validation accuracy: 80.0%\n",
      "Minibatch loss at step 2000: 0.855276\n",
      "Minibatch accuracy: 81.2%\n",
      "Validation accuracy: 80.1%\n",
      "Minibatch loss at step 2500: 0.654164\n",
      "Minibatch accuracy: 83.6%\n",
      "Validation accuracy: 81.0%\n",
      "Minibatch loss at step 3000: 0.685812\n",
      "Minibatch accuracy: 83.6%\n",
      "Validation accuracy: 81.5%\n",
      "Test accuracy: 88.6%\n"
     ]
    }
   ],
   "source": [
    "batch_size = 128\n",
    "\n",
    "graph = tf.Graph()\n",
    "with graph.as_default():\n",
    "\n",
    "  # Input data. For the training data, we use a placeholder that will be fed\n",
    "  # at run time with a training minibatch.\n",
    "  tf_train_dataset = tf.placeholder(tf.float32,\n",
    "                                    shape=(batch_size, image_size * image_size))\n",
    "  tf_train_labels = tf.placeholder(tf.float32, shape=(batch_size, num_labels))\n",
    "  tf_valid_dataset = tf.constant(valid_dataset)\n",
    "  tf_test_dataset = tf.constant(test_dataset)\n",
    "  \n",
    "  # Variables.\n",
    "  weights = tf.Variable(\n",
    "    tf.truncated_normal([image_size * image_size, num_labels]))\n",
    "  biases = tf.Variable(tf.zeros([num_labels]))\n",
    "  \n",
    "  # Training computation.\n",
    "  logits = tf.matmul(tf_train_dataset, weights) + biases\n",
    "  loss = tf.reduce_mean(\n",
    "    tf.nn.softmax_cross_entropy_with_logits(logits, tf_train_labels))\n",
    "  loss += 0.001 * tf.nn.l2_loss(weights)\n",
    "  \n",
    "  # Optimizer.\n",
    "  optimizer = tf.train.GradientDescentOptimizer(0.5).minimize(loss)\n",
    "  \n",
    "  # Predictions for the training, validation, and test data.\n",
    "  train_prediction = tf.nn.softmax(logits)\n",
    "  valid_prediction = tf.nn.softmax(\n",
    "    tf.matmul(tf_valid_dataset, weights) + biases)\n",
    "  test_prediction = tf.nn.softmax(tf.matmul(tf_test_dataset, weights) + biases)\n",
    "evaluate(graph, batch_size, train_dataset, train_labels, train_prediction,\n",
    "             valid_prediction, valid_labels, test_prediction, test_labels)"
   ]
  },
  {
   "cell_type": "markdown",
   "metadata": {},
   "source": [
    "Test accuracy is improved slightly from 85.2% to 88.5% by introducing 0.001 * tf.nn.l2_loss(weights)."
   ]
  },
  {
   "cell_type": "markdown",
   "metadata": {},
   "source": [
    "### Neural Network with L2 loss"
   ]
  },
  {
   "cell_type": "code",
   "execution_count": 37,
   "metadata": {
    "collapsed": false
   },
   "outputs": [
    {
     "name": "stdout",
     "output_type": "stream",
     "text": [
      "Initialized\n",
      "Minibatch loss at step 0: 880.933960\n",
      "Minibatch accuracy: 17.2%\n",
      "Validation accuracy: 33.8%\n",
      "Minibatch loss at step 500: 305.560455\n",
      "Minibatch accuracy: 82.0%\n",
      "Validation accuracy: 80.9%\n",
      "Minibatch loss at step 1000: 175.788818\n",
      "Minibatch accuracy: 85.2%\n",
      "Validation accuracy: 82.2%\n",
      "Minibatch loss at step 1500: 105.709923\n",
      "Minibatch accuracy: 84.4%\n",
      "Validation accuracy: 82.6%\n",
      "Minibatch loss at step 2000: 63.912170\n",
      "Minibatch accuracy: 85.9%\n",
      "Validation accuracy: 84.2%\n",
      "Minibatch loss at step 2500: 38.314262\n",
      "Minibatch accuracy: 90.6%\n",
      "Validation accuracy: 86.3%\n",
      "Minibatch loss at step 3000: 23.414917\n",
      "Minibatch accuracy: 87.5%\n",
      "Validation accuracy: 87.3%\n",
      "Test accuracy: 93.4%\n"
     ]
    }
   ],
   "source": [
    "batch_size = 128\n",
    "\n",
    "graph = tf.Graph()\n",
    "with graph.as_default():\n",
    "\n",
    "  # Input data. For the training data, we use a placeholder that will be fed\n",
    "  # at run time with a training minibatch.\n",
    "  tf_train_dataset = tf.placeholder(tf.float32,\n",
    "                                    shape=(batch_size, image_size * image_size))\n",
    "  tf_train_labels = tf.placeholder(tf.float32, shape=(batch_size, num_labels))\n",
    "  tf_valid_dataset = tf.constant(valid_dataset)\n",
    "  tf_test_dataset = tf.constant(test_dataset)\n",
    "  \n",
    "  # Variables.\n",
    "  h_dim = image_size * image_size * 2\n",
    "  w1 = tf.Variable(\n",
    "    tf.truncated_normal([image_size * image_size, h_dim]))\n",
    "  b1 = tf.Variable(tf.zeros([h_dim]))\n",
    "  \n",
    "  w2 = tf.Variable(\n",
    "    tf.truncated_normal([h_dim, num_labels]))\n",
    "  b2 = tf.Variable(tf.zeros([num_labels]))\n",
    "\n",
    "  # Training computation.\n",
    "  logits = tf.matmul(tf_train_dataset, w1) + b1\n",
    "  logits = tf.nn.relu(logits)\n",
    "  logits = tf.matmul(logits, w2) + b2\n",
    "\n",
    "  loss = tf.reduce_mean(\n",
    "    tf.nn.softmax_cross_entropy_with_logits(logits, tf_train_labels))\n",
    "  loss += 0.001 * tf.nn.l2_loss(w1)\n",
    "  loss += 0.001 * tf.nn.l2_loss(w2)\n",
    "  \n",
    "  # Optimizer.\n",
    "  optimizer = tf.train.GradientDescentOptimizer(0.5).minimize(loss)\n",
    "  \n",
    "  # Predictions for the training, validation, and test data.\n",
    "  train_prediction = tf.nn.softmax(logits)\n",
    "\n",
    "  valid_logits = tf.matmul(tf_valid_dataset, w1) + b1\n",
    "  valid_logits = tf.nn.relu(valid_logits)\n",
    "  valid_logits = tf.matmul(valid_logits, w2) + b2\n",
    "  valid_prediction = tf.nn.softmax(valid_logits)\n",
    "\n",
    "  test_logits = tf.matmul(tf_test_dataset, w1) + b1\n",
    "  test_logits = tf.nn.relu(test_logits)\n",
    "  test_logits = tf.matmul(test_logits, w2) + b2\n",
    "  test_prediction = tf.nn.softmax(test_logits)\n",
    "evaluate(graph, batch_size, train_dataset, train_labels, train_prediction,\n",
    "             valid_prediction, valid_labels, test_prediction, test_labels)"
   ]
  },
  {
   "cell_type": "markdown",
   "metadata": {},
   "source": [
    "The accuracy is improved on Neural Network model as well from 88.9% to 93.1%."
   ]
  },
  {
   "cell_type": "markdown",
   "metadata": {
    "colab_type": "text",
    "id": "na8xX2yHZzNF"
   },
   "source": [
    "---\n",
    "Problem 2\n",
    "---------\n",
    "Let's demonstrate an extreme case of overfitting. Restrict your training data to just a few batches. What happens?\n",
    "\n",
    "---"
   ]
  },
  {
   "cell_type": "markdown",
   "metadata": {},
   "source": [
    "### Neural Network Model with Batch Size 4 and L2 Loss."
   ]
  },
  {
   "cell_type": "code",
   "execution_count": 55,
   "metadata": {
    "collapsed": false
   },
   "outputs": [
    {
     "name": "stdout",
     "output_type": "stream",
     "text": [
      "Initialized\n",
      "Minibatch loss at step 0: 835.662842\n",
      "Minibatch accuracy: 25.0%\n",
      "Validation accuracy: 16.0%\n",
      "Minibatch loss at step 500: nan\n",
      "Minibatch accuracy: 0.0%\n",
      "Validation accuracy: 10.0%\n",
      "Minibatch loss at step 1000: nan\n",
      "Minibatch accuracy: 0.0%\n",
      "Validation accuracy: 10.0%\n",
      "Minibatch loss at step 1500: nan\n",
      "Minibatch accuracy: 50.0%\n",
      "Validation accuracy: 10.0%\n",
      "Minibatch loss at step 2000: nan\n",
      "Minibatch accuracy: 25.0%\n",
      "Validation accuracy: 10.0%\n",
      "Minibatch loss at step 2500: nan\n",
      "Minibatch accuracy: 0.0%\n",
      "Validation accuracy: 10.0%\n",
      "Minibatch loss at step 3000: nan\n",
      "Minibatch accuracy: 0.0%\n",
      "Validation accuracy: 10.0%\n",
      "Test accuracy: 10.0%\n"
     ]
    }
   ],
   "source": [
    "batch_size = 4\n",
    "\n",
    "graph = tf.Graph()\n",
    "with graph.as_default():\n",
    "\n",
    "  # Input data. For the training data, we use a placeholder that will be fed\n",
    "  # at run time with a training minibatch.\n",
    "  tf_train_dataset = tf.placeholder(tf.float32,\n",
    "                                    shape=(batch_size, image_size * image_size))\n",
    "  tf_train_labels = tf.placeholder(tf.float32, shape=(batch_size, num_labels))\n",
    "  tf_valid_dataset = tf.constant(valid_dataset)\n",
    "  tf_test_dataset = tf.constant(test_dataset)\n",
    "  \n",
    "  # Variables.\n",
    "  h_dim = image_size * image_size * 2\n",
    "  w1 = tf.Variable(\n",
    "    tf.truncated_normal([image_size * image_size, h_dim]))\n",
    "  b1 = tf.Variable(tf.zeros([h_dim]))\n",
    "  \n",
    "  w2 = tf.Variable(\n",
    "    tf.truncated_normal([h_dim, num_labels]))\n",
    "  b2 = tf.Variable(tf.zeros([num_labels]))\n",
    "\n",
    "  # Training computation.\n",
    "  logits = tf.matmul(tf_train_dataset, w1) + b1\n",
    "  logits = tf.nn.relu(logits)\n",
    "  logits = tf.matmul(logits, w2) + b2\n",
    "\n",
    "  loss = tf.reduce_mean(\n",
    "    tf.nn.softmax_cross_entropy_with_logits(logits, tf_train_labels))\n",
    "  loss += 0.001 * tf.nn.l2_loss(w1)\n",
    "  loss += 0.001 * tf.nn.l2_loss(w2)\n",
    "  \n",
    "  # Optimizer.\n",
    "  optimizer = tf.train.GradientDescentOptimizer(0.5).minimize(loss)\n",
    "  \n",
    "  # Predictions for the training, validation, and test data.\n",
    "  train_prediction = tf.nn.softmax(logits)\n",
    "\n",
    "  valid_logits = tf.matmul(tf_valid_dataset, w1) + b1\n",
    "  valid_logits = tf.nn.relu(valid_logits)\n",
    "  valid_logits = tf.matmul(valid_logits, w2) + b2\n",
    "  valid_prediction = tf.nn.softmax(valid_logits)\n",
    "\n",
    "  test_logits = tf.matmul(tf_test_dataset, w1) + b1\n",
    "  test_logits = tf.nn.relu(test_logits)\n",
    "  test_logits = tf.matmul(test_logits, w2) + b2\n",
    "  test_prediction = tf.nn.softmax(test_logits)\n",
    "evaluate(graph, batch_size, train_dataset, train_labels, train_prediction,\n",
    "             valid_prediction, valid_labels, test_prediction, test_labels)"
   ]
  },
  {
   "cell_type": "markdown",
   "metadata": {},
   "source": [
    "When I reduce the batch size to 4, the loss value gets extremely high. Small batch size make the minibatch accuracy vibrates."
   ]
  },
  {
   "cell_type": "markdown",
   "metadata": {},
   "source": [
    "### Neural Network Model with Batch Size 8 and L2 Loss."
   ]
  },
  {
   "cell_type": "code",
   "execution_count": 45,
   "metadata": {
    "collapsed": false
   },
   "outputs": [
    {
     "name": "stdout",
     "output_type": "stream",
     "text": [
      "Initialized\n",
      "Minibatch loss at step 0: 828.111694\n",
      "Minibatch accuracy: 12.5%\n",
      "Validation accuracy: 21.3%\n",
      "Minibatch loss at step 500: 2204157952.000000\n",
      "Minibatch accuracy: 25.0%\n",
      "Validation accuracy: 41.3%\n",
      "Minibatch loss at step 1000: 25229770358784.000000\n",
      "Minibatch accuracy: 37.5%\n",
      "Validation accuracy: 30.7%\n",
      "Minibatch loss at step 1500: 24921382378799104.000000\n",
      "Minibatch accuracy: 25.0%\n",
      "Validation accuracy: 32.5%\n",
      "Minibatch loss at step 2000: 255363422730510663680.000000\n",
      "Minibatch accuracy: 37.5%\n",
      "Validation accuracy: 42.0%\n",
      "Minibatch loss at step 2500: 692270780692458773676032.000000\n",
      "Minibatch accuracy: 25.0%\n",
      "Validation accuracy: 28.2%\n",
      "Minibatch loss at step 3000: 7475205091519365433398394880.000000\n",
      "Minibatch accuracy: 50.0%\n",
      "Validation accuracy: 32.9%\n",
      "Test accuracy: 35.8%\n"
     ]
    }
   ],
   "source": [
    "batch_size = 8\n",
    "\n",
    "graph = tf.Graph()\n",
    "with graph.as_default():\n",
    "\n",
    "  # Input data. For the training data, we use a placeholder that will be fed\n",
    "  # at run time with a training minibatch.\n",
    "  tf_train_dataset = tf.placeholder(tf.float32,\n",
    "                                    shape=(batch_size, image_size * image_size))\n",
    "  tf_train_labels = tf.placeholder(tf.float32, shape=(batch_size, num_labels))\n",
    "  tf_valid_dataset = tf.constant(valid_dataset)\n",
    "  tf_test_dataset = tf.constant(test_dataset)\n",
    "  \n",
    "  # Variables.\n",
    "  h_dim = image_size * image_size * 2\n",
    "  w1 = tf.Variable(\n",
    "    tf.truncated_normal([image_size * image_size, h_dim]))\n",
    "  b1 = tf.Variable(tf.zeros([h_dim]))\n",
    "  \n",
    "  w2 = tf.Variable(\n",
    "    tf.truncated_normal([h_dim, num_labels]))\n",
    "  b2 = tf.Variable(tf.zeros([num_labels]))\n",
    "\n",
    "  # Training computation.\n",
    "  logits = tf.matmul(tf_train_dataset, w1) + b1\n",
    "  logits = tf.nn.relu(logits)\n",
    "  logits = tf.matmul(logits, w2) + b2\n",
    "\n",
    "  loss = tf.reduce_mean(\n",
    "    tf.nn.softmax_cross_entropy_with_logits(logits, tf_train_labels))\n",
    "  loss += 0.001 * tf.nn.l2_loss(w1)\n",
    "  loss += 0.001 * tf.nn.l2_loss(w2)\n",
    "  \n",
    "  # Optimizer.\n",
    "  optimizer = tf.train.GradientDescentOptimizer(0.5).minimize(loss)\n",
    "  \n",
    "  # Predictions for the training, validation, and test data.\n",
    "  train_prediction = tf.nn.softmax(logits)\n",
    "\n",
    "  valid_logits = tf.matmul(tf_valid_dataset, w1) + b1\n",
    "  valid_logits = tf.nn.relu(valid_logits)\n",
    "  valid_logits = tf.matmul(valid_logits, w2) + b2\n",
    "  valid_prediction = tf.nn.softmax(valid_logits)\n",
    "\n",
    "  test_logits = tf.matmul(tf_test_dataset, w1) + b1\n",
    "  test_logits = tf.nn.relu(test_logits)\n",
    "  test_logits = tf.matmul(test_logits, w2) + b2\n",
    "  test_prediction = tf.nn.softmax(test_logits)\n",
    "evaluate(graph, batch_size, train_dataset, train_labels, train_prediction,\n",
    "             valid_prediction, valid_labels, test_prediction, test_labels)"
   ]
  },
  {
   "cell_type": "markdown",
   "metadata": {},
   "source": [
    "Ramped up the batch size to 8. The loss value is calculable, but the accuracy remains low. There's a gap between train accuracy and validation accuracy."
   ]
  },
  {
   "cell_type": "markdown",
   "metadata": {},
   "source": [
    "### Neural Network Model with Batch Size 16 and L2 Loss."
   ]
  },
  {
   "cell_type": "code",
   "execution_count": 53,
   "metadata": {
    "collapsed": false
   },
   "outputs": [
    {
     "name": "stdout",
     "output_type": "stream",
     "text": [
      "Initialized\n",
      "Minibatch loss at step 0: 972.694885\n",
      "Minibatch accuracy: 6.2%\n",
      "Validation accuracy: 26.1%\n",
      "Minibatch loss at step 500: 480.078125\n",
      "Minibatch accuracy: 87.5%\n",
      "Validation accuracy: 71.8%\n",
      "Minibatch loss at step 1000: 255.639679\n",
      "Minibatch accuracy: 75.0%\n",
      "Validation accuracy: 62.1%\n",
      "Minibatch loss at step 1500: 153.255341\n",
      "Minibatch accuracy: 62.5%\n",
      "Validation accuracy: 64.6%\n",
      "Minibatch loss at step 2000: 85.175552\n",
      "Minibatch accuracy: 68.8%\n",
      "Validation accuracy: 72.5%\n",
      "Minibatch loss at step 2500: 51.245132\n",
      "Minibatch accuracy: 87.5%\n",
      "Validation accuracy: 76.0%\n",
      "Minibatch loss at step 3000: 31.350275\n",
      "Minibatch accuracy: 87.5%\n",
      "Validation accuracy: 77.7%\n",
      "Test accuracy: 85.5%\n"
     ]
    }
   ],
   "source": [
    "batch_size = 16\n",
    "\n",
    "graph = tf.Graph()\n",
    "with graph.as_default():\n",
    "\n",
    "  # Input data. For the training data, we use a placeholder that will be fed\n",
    "  # at run time with a training minibatch.\n",
    "  tf_train_dataset = tf.placeholder(tf.float32,\n",
    "                                    shape=(batch_size, image_size * image_size))\n",
    "  tf_train_labels = tf.placeholder(tf.float32, shape=(batch_size, num_labels))\n",
    "  tf_valid_dataset = tf.constant(valid_dataset)\n",
    "  tf_test_dataset = tf.constant(test_dataset)\n",
    "  \n",
    "  # Variables.\n",
    "  h_dim = image_size * image_size * 2\n",
    "  w1 = tf.Variable(\n",
    "    tf.truncated_normal([image_size * image_size, h_dim]))\n",
    "  b1 = tf.Variable(tf.zeros([h_dim]))\n",
    "  \n",
    "  w2 = tf.Variable(\n",
    "    tf.truncated_normal([h_dim, num_labels]))\n",
    "  b2 = tf.Variable(tf.zeros([num_labels]))\n",
    "\n",
    "  # Training computation.\n",
    "  logits = tf.matmul(tf_train_dataset, w1) + b1\n",
    "  logits = tf.nn.relu(logits)\n",
    "  logits = tf.matmul(logits, w2) + b2\n",
    "\n",
    "  loss = tf.reduce_mean(\n",
    "    tf.nn.softmax_cross_entropy_with_logits(logits, tf_train_labels))\n",
    "  loss += 0.001 * tf.nn.l2_loss(w1)\n",
    "  loss += 0.001 * tf.nn.l2_loss(w2)\n",
    "  \n",
    "  # Optimizer.\n",
    "  optimizer = tf.train.GradientDescentOptimizer(0.5).minimize(loss)\n",
    "  \n",
    "  # Predictions for the training, validation, and test data.\n",
    "  train_prediction = tf.nn.softmax(logits)\n",
    "\n",
    "  valid_logits = tf.matmul(tf_valid_dataset, w1) + b1\n",
    "  valid_logits = tf.nn.relu(valid_logits)\n",
    "  valid_logits = tf.matmul(valid_logits, w2) + b2\n",
    "  valid_prediction = tf.nn.softmax(valid_logits)\n",
    "\n",
    "  test_logits = tf.matmul(tf_test_dataset, w1) + b1\n",
    "  test_logits = tf.nn.relu(test_logits)\n",
    "  test_logits = tf.matmul(test_logits, w2) + b2\n",
    "  test_prediction = tf.nn.softmax(test_logits)\n",
    "evaluate(graph, batch_size, train_dataset, train_labels, train_prediction,\n",
    "             valid_prediction, valid_labels, test_prediction, test_labels)"
   ]
  },
  {
   "cell_type": "markdown",
   "metadata": {},
   "source": [
    "If I set the batch size as 16, it can be trained almost normally."
   ]
  },
  {
   "cell_type": "markdown",
   "metadata": {},
   "source": [
    "### Neural Network Model with Batch Size 8 and no L2 Loss."
   ]
  },
  {
   "cell_type": "code",
   "execution_count": 58,
   "metadata": {
    "collapsed": false
   },
   "outputs": [
    {
     "name": "stdout",
     "output_type": "stream",
     "text": [
      "Initialized\n",
      "Minibatch loss at step 0: 547.158386\n",
      "Minibatch accuracy: 0.0%\n",
      "Validation accuracy: 19.6%\n",
      "Minibatch loss at step 500: 6215875584.000000\n",
      "Minibatch accuracy: 37.5%\n",
      "Validation accuracy: 38.9%\n",
      "Minibatch loss at step 1000: 658151527415808.000000\n",
      "Minibatch accuracy: 25.0%\n",
      "Validation accuracy: 42.4%\n",
      "Minibatch loss at step 1500: 1795249600483819520.000000\n",
      "Minibatch accuracy: 12.5%\n",
      "Validation accuracy: 31.4%\n",
      "Minibatch loss at step 2000: 1005269873930797676756992.000000\n",
      "Minibatch accuracy: 50.0%\n",
      "Validation accuracy: 41.2%\n",
      "Minibatch loss at step 2500: 10488907224682804854705356800.000000\n",
      "Minibatch accuracy: 12.5%\n",
      "Validation accuracy: 37.5%\n",
      "Minibatch loss at step 3000: 48770354850904851786045683924992.000000\n",
      "Minibatch accuracy: 25.0%\n",
      "Validation accuracy: 43.8%\n",
      "Test accuracy: 48.3%\n"
     ]
    }
   ],
   "source": [
    "batch_size = 8\n",
    "\n",
    "graph = tf.Graph()\n",
    "with graph.as_default():\n",
    "\n",
    "  # Input data. For the training data, we use a placeholder that will be fed\n",
    "  # at run time with a training minibatch.\n",
    "  tf_train_dataset = tf.placeholder(tf.float32,\n",
    "                                    shape=(batch_size, image_size * image_size))\n",
    "  tf_train_labels = tf.placeholder(tf.float32, shape=(batch_size, num_labels))\n",
    "  tf_valid_dataset = tf.constant(valid_dataset)\n",
    "  tf_test_dataset = tf.constant(test_dataset)\n",
    "  \n",
    "  # Variables.\n",
    "  h_dim = image_size * image_size * 2\n",
    "  w1 = tf.Variable(\n",
    "    tf.truncated_normal([image_size * image_size, h_dim]))\n",
    "  b1 = tf.Variable(tf.zeros([h_dim]))\n",
    "  \n",
    "  w2 = tf.Variable(\n",
    "    tf.truncated_normal([h_dim, num_labels]))\n",
    "  b2 = tf.Variable(tf.zeros([num_labels]))\n",
    "\n",
    "  # Training computation.\n",
    "  logits = tf.matmul(tf_train_dataset, w1) + b1\n",
    "  logits = tf.nn.relu(logits)\n",
    "  logits = tf.matmul(logits, w2) + b2\n",
    "\n",
    "  loss = tf.reduce_mean(\n",
    "    tf.nn.softmax_cross_entropy_with_logits(logits, tf_train_labels))\n",
    "  \n",
    "  # Optimizer.\n",
    "  optimizer = tf.train.GradientDescentOptimizer(0.5).minimize(loss)\n",
    "  \n",
    "  # Predictions for the training, validation, and test data.\n",
    "  train_prediction = tf.nn.softmax(logits)\n",
    "\n",
    "  valid_logits = tf.matmul(tf_valid_dataset, w1) + b1\n",
    "  valid_logits = tf.nn.relu(valid_logits)\n",
    "  valid_logits = tf.matmul(valid_logits, w2) + b2\n",
    "  valid_prediction = tf.nn.softmax(valid_logits)\n",
    "\n",
    "  test_logits = tf.matmul(tf_test_dataset, w1) + b1\n",
    "  test_logits = tf.nn.relu(test_logits)\n",
    "  test_logits = tf.matmul(test_logits, w2) + b2\n",
    "  test_prediction = tf.nn.softmax(test_logits)\n",
    "evaluate(graph, batch_size, train_dataset, train_labels, train_prediction,\n",
    "             valid_prediction, valid_labels, test_prediction, test_labels)"
   ]
  },
  {
   "cell_type": "markdown",
   "metadata": {},
   "source": [
    "### Logistic Regression Model with Batch Size 8"
   ]
  },
  {
   "cell_type": "code",
   "execution_count": 61,
   "metadata": {
    "collapsed": false
   },
   "outputs": [
    {
     "name": "stdout",
     "output_type": "stream",
     "text": [
      "Initialized\n",
      "Minibatch loss at step 0: 13.341852\n",
      "Minibatch accuracy: 50.0%\n",
      "Validation accuracy: 13.4%\n",
      "Minibatch loss at step 500: 32.974693\n",
      "Minibatch accuracy: 50.0%\n",
      "Validation accuracy: 67.8%\n",
      "Minibatch loss at step 1000: 2.660239\n",
      "Minibatch accuracy: 100.0%\n",
      "Validation accuracy: 70.9%\n",
      "Minibatch loss at step 1500: 2.408784\n",
      "Minibatch accuracy: 100.0%\n",
      "Validation accuracy: 69.7%\n",
      "Minibatch loss at step 2000: 2.123155\n",
      "Minibatch accuracy: 100.0%\n",
      "Validation accuracy: 72.6%\n",
      "Minibatch loss at step 2500: 14.659731\n",
      "Minibatch accuracy: 50.0%\n",
      "Validation accuracy: 71.4%\n",
      "Minibatch loss at step 3000: 1.942750\n",
      "Minibatch accuracy: 100.0%\n",
      "Validation accuracy: 67.5%\n",
      "Test accuracy: 75.2%\n"
     ]
    }
   ],
   "source": [
    "batch_size = 2\n",
    "\n",
    "graph = tf.Graph()\n",
    "with graph.as_default():\n",
    "\n",
    "  # Input data. For the training data, we use a placeholder that will be fed\n",
    "  # at run time with a training minibatch.\n",
    "  tf_train_dataset = tf.placeholder(tf.float32,\n",
    "                                    shape=(batch_size, image_size * image_size))\n",
    "  tf_train_labels = tf.placeholder(tf.float32, shape=(batch_size, num_labels))\n",
    "  tf_valid_dataset = tf.constant(valid_dataset)\n",
    "  tf_test_dataset = tf.constant(test_dataset)\n",
    "  \n",
    "  # Variables.\n",
    "  weights = tf.Variable(\n",
    "    tf.truncated_normal([image_size * image_size, num_labels]))\n",
    "  biases = tf.Variable(tf.zeros([num_labels]))\n",
    "  \n",
    "  # Training computation.\n",
    "  logits = tf.matmul(tf_train_dataset, weights) + biases\n",
    "  loss = tf.reduce_mean(\n",
    "    tf.nn.softmax_cross_entropy_with_logits(logits, tf_train_labels))\n",
    "  loss += 0.001 * tf.nn.l2_loss(weights)\n",
    "  \n",
    "  # Optimizer.\n",
    "  optimizer = tf.train.GradientDescentOptimizer(0.5).minimize(loss)\n",
    "  \n",
    "  # Predictions for the training, validation, and test data.\n",
    "  train_prediction = tf.nn.softmax(logits)\n",
    "  valid_prediction = tf.nn.softmax(\n",
    "    tf.matmul(tf_valid_dataset, weights) + biases)\n",
    "  test_prediction = tf.nn.softmax(tf.matmul(tf_test_dataset, weights) + biases)\n",
    "evaluate(graph, batch_size, train_dataset, train_labels, train_prediction,\n",
    "             valid_prediction, valid_labels, test_prediction, test_labels)"
   ]
  },
  {
   "cell_type": "markdown",
   "metadata": {},
   "source": [
    "Huge gap between training accuracy and test accuracy."
   ]
  },
  {
   "cell_type": "markdown",
   "metadata": {
    "colab_type": "text",
    "id": "ww3SCBUdlkRc"
   },
   "source": [
    "---\n",
    "Problem 3\n",
    "---------\n",
    "Introduce Dropout on the hidden layer of the neural network. Remember: Dropout should only be introduced during training, not evaluation, otherwise your evaluation results would be stochastic as well. TensorFlow provides `nn.dropout()` for that, but you have to make sure it's only inserted during training.\n",
    "\n",
    "What happens to our extreme overfitting case?\n",
    "\n",
    "---"
   ]
  },
  {
   "cell_type": "markdown",
   "metadata": {},
   "source": [
    "### Adding Dropout on Neural Network model with large keeping probability."
   ]
  },
  {
   "cell_type": "code",
   "execution_count": 51,
   "metadata": {
    "collapsed": false,
    "scrolled": true
   },
   "outputs": [
    {
     "name": "stdout",
     "output_type": "stream",
     "text": [
      "Initialized\n",
      "Minibatch loss at step 0: 977.635620\n",
      "Minibatch accuracy: 3.9%\n",
      "Validation accuracy: 33.1%\n",
      "Minibatch loss at step 500: 314.817810\n",
      "Minibatch accuracy: 76.6%\n",
      "Validation accuracy: 81.3%\n",
      "Minibatch loss at step 1000: 175.912827\n",
      "Minibatch accuracy: 82.8%\n",
      "Validation accuracy: 81.5%\n",
      "Minibatch loss at step 1500: 105.694519\n",
      "Minibatch accuracy: 81.2%\n",
      "Validation accuracy: 81.1%\n",
      "Minibatch loss at step 2000: 62.812805\n",
      "Minibatch accuracy: 84.4%\n",
      "Validation accuracy: 82.2%\n",
      "Minibatch loss at step 2500: 37.817158\n",
      "Minibatch accuracy: 84.4%\n",
      "Validation accuracy: 84.0%\n",
      "Minibatch loss at step 3000: 23.040064\n",
      "Minibatch accuracy: 84.4%\n",
      "Validation accuracy: 85.5%\n",
      "Test accuracy: 91.6%\n"
     ]
    }
   ],
   "source": [
    "batch_size = 128\n",
    "\n",
    "graph = tf.Graph()\n",
    "with graph.as_default():\n",
    "\n",
    "  # Input data. For the training data, we use a placeholder that will be fed\n",
    "  # at run time with a training minibatch.\n",
    "  tf_train_dataset = tf.placeholder(tf.float32,\n",
    "                                    shape=(batch_size, image_size * image_size))\n",
    "  tf_train_labels = tf.placeholder(tf.float32, shape=(batch_size, num_labels))\n",
    "  tf_valid_dataset = tf.constant(valid_dataset)\n",
    "  tf_test_dataset = tf.constant(test_dataset)\n",
    "  \n",
    "  # Variables.\n",
    "  h_dim = image_size * image_size * 2\n",
    "  w1 = tf.Variable(\n",
    "    tf.truncated_normal([image_size * image_size, h_dim]))\n",
    "  b1 = tf.Variable(tf.zeros([h_dim]))\n",
    "  \n",
    "  w2 = tf.Variable(\n",
    "    tf.truncated_normal([h_dim, num_labels]))\n",
    "  b2 = tf.Variable(tf.zeros([num_labels]))\n",
    "\n",
    "  # Training computation.\n",
    "  keep_prob = 0.8\n",
    "  logits = tf.matmul(tf.nn.dropout(tf_train_dataset, keep_prob), w1) + b1\n",
    "  logits = tf.nn.relu(logits)\n",
    "  logits = tf.matmul(logits, w2) + b2\n",
    "\n",
    "  loss = tf.reduce_mean(\n",
    "    tf.nn.softmax_cross_entropy_with_logits(logits, tf_train_labels))\n",
    "  loss += 0.001 * tf.nn.l2_loss(w1)\n",
    "  loss += 0.001 * tf.nn.l2_loss(w2)\n",
    "  \n",
    "  # Optimizer.\n",
    "  optimizer = tf.train.GradientDescentOptimizer(0.5).minimize(loss)\n",
    "  \n",
    "  # Predictions for the training, validation, and test data.\n",
    "  train_prediction = tf.nn.softmax(logits)\n",
    "\n",
    "  valid_logits = tf.matmul(tf_valid_dataset, w1) + b1\n",
    "  valid_logits = tf.nn.relu(valid_logits)\n",
    "  valid_logits = tf.matmul(valid_logits, w2) + b2\n",
    "  valid_prediction = tf.nn.softmax(valid_logits)\n",
    "\n",
    "  test_logits = tf.matmul(tf_test_dataset, w1) + b1\n",
    "  test_logits = tf.nn.relu(test_logits)\n",
    "  test_logits = tf.matmul(test_logits, w2) + b2\n",
    "  test_prediction = tf.nn.softmax(test_logits)\n",
    "evaluate(graph, batch_size, train_dataset, train_labels, train_prediction,\n",
    "             valid_prediction, valid_labels, test_prediction, test_labels)"
   ]
  },
  {
   "cell_type": "markdown",
   "metadata": {},
   "source": [
    "### Adding Dropout on Neural Network model with small keeping probability."
   ]
  },
  {
   "cell_type": "code",
   "execution_count": 62,
   "metadata": {
    "collapsed": false
   },
   "outputs": [
    {
     "name": "stdout",
     "output_type": "stream",
     "text": [
      "Initialized\n",
      "Minibatch loss at step 0: 1167.873291\n",
      "Minibatch accuracy: 8.6%\n",
      "Validation accuracy: 36.1%\n",
      "Minibatch loss at step 500: 338.161804\n",
      "Minibatch accuracy: 78.1%\n",
      "Validation accuracy: 78.5%\n",
      "Minibatch loss at step 1000: 178.389053\n",
      "Minibatch accuracy: 75.8%\n",
      "Validation accuracy: 78.7%\n",
      "Minibatch loss at step 1500: 106.918610\n",
      "Minibatch accuracy: 74.2%\n",
      "Validation accuracy: 78.4%\n",
      "Minibatch loss at step 2000: 61.764938\n",
      "Minibatch accuracy: 78.1%\n",
      "Validation accuracy: 78.4%\n",
      "Minibatch loss at step 2500: 37.225433\n",
      "Minibatch accuracy: 73.4%\n",
      "Validation accuracy: 80.2%\n",
      "Minibatch loss at step 3000: 21.875019\n",
      "Minibatch accuracy: 83.6%\n",
      "Validation accuracy: 82.7%\n",
      "Test accuracy: 89.5%\n"
     ]
    }
   ],
   "source": [
    "batch_size = 128\n",
    "\n",
    "graph = tf.Graph()\n",
    "with graph.as_default():\n",
    "\n",
    "  # Input data. For the training data, we use a placeholder that will be fed\n",
    "  # at run time with a training minibatch.\n",
    "  tf_train_dataset = tf.placeholder(tf.float32,\n",
    "                                    shape=(batch_size, image_size * image_size))\n",
    "  tf_train_labels = tf.placeholder(tf.float32, shape=(batch_size, num_labels))\n",
    "  tf_valid_dataset = tf.constant(valid_dataset)\n",
    "  tf_test_dataset = tf.constant(test_dataset)\n",
    "  \n",
    "  # Variables.\n",
    "  h_dim = image_size * image_size * 2\n",
    "  w1 = tf.Variable(\n",
    "    tf.truncated_normal([image_size * image_size, h_dim]))\n",
    "  b1 = tf.Variable(tf.zeros([h_dim]))\n",
    "  \n",
    "  w2 = tf.Variable(\n",
    "    tf.truncated_normal([h_dim, num_labels]))\n",
    "  b2 = tf.Variable(tf.zeros([num_labels]))\n",
    "\n",
    "  # Training computation.\n",
    "  keep_prob = 0.5\n",
    "  logits = tf.matmul(tf.nn.dropout(tf_train_dataset, keep_prob), w1) + b1\n",
    "  logits = tf.nn.relu(logits)\n",
    "  logits = tf.matmul(logits, w2) + b2\n",
    "\n",
    "  loss = tf.reduce_mean(\n",
    "    tf.nn.softmax_cross_entropy_with_logits(logits, tf_train_labels))\n",
    "  loss += 0.001 * tf.nn.l2_loss(w1)\n",
    "  loss += 0.001 * tf.nn.l2_loss(w2)\n",
    "  \n",
    "  # Optimizer.\n",
    "  optimizer = tf.train.GradientDescentOptimizer(0.5).minimize(loss)\n",
    "  \n",
    "  # Predictions for the training, validation, and test data.\n",
    "  train_prediction = tf.nn.softmax(logits)\n",
    "\n",
    "  valid_logits = tf.matmul(tf_valid_dataset, w1) + b1\n",
    "  valid_logits = tf.nn.relu(valid_logits)\n",
    "  valid_logits = tf.matmul(valid_logits, w2) + b2\n",
    "  valid_prediction = tf.nn.softmax(valid_logits)\n",
    "\n",
    "  test_logits = tf.matmul(tf_test_dataset, w1) + b1\n",
    "  test_logits = tf.nn.relu(test_logits)\n",
    "  test_logits = tf.matmul(test_logits, w2) + b2\n",
    "  test_prediction = tf.nn.softmax(test_logits)\n",
    "evaluate(graph, batch_size, train_dataset, train_labels, train_prediction,\n",
    "             valid_prediction, valid_labels, test_prediction, test_labels)"
   ]
  },
  {
   "cell_type": "markdown",
   "metadata": {},
   "source": [
    "### Adding Dropout with small batch model."
   ]
  },
  {
   "cell_type": "code",
   "execution_count": 63,
   "metadata": {
    "collapsed": false
   },
   "outputs": [
    {
     "name": "stdout",
     "output_type": "stream",
     "text": [
      "Initialized\n",
      "Minibatch loss at step 0: 1004.980164\n",
      "Minibatch accuracy: 12.5%\n",
      "Validation accuracy: 21.4%\n",
      "Minibatch loss at step 500: 10495202304.000000\n",
      "Minibatch accuracy: 37.5%\n",
      "Validation accuracy: 41.5%\n",
      "Minibatch loss at step 1000: 3205322281844736.000000\n",
      "Minibatch accuracy: 37.5%\n",
      "Validation accuracy: 36.4%\n",
      "Minibatch loss at step 1500: 28196184045943521280.000000\n",
      "Minibatch accuracy: 50.0%\n",
      "Validation accuracy: 43.1%\n",
      "Minibatch loss at step 2000: 5811620203227588279140352.000000\n",
      "Minibatch accuracy: 50.0%\n",
      "Validation accuracy: 36.3%\n",
      "Minibatch loss at step 2500: 204345543536495822979561684992.000000\n",
      "Minibatch accuracy: 12.5%\n",
      "Validation accuracy: 26.8%\n",
      "Minibatch loss at step 3000: 2199032584172649978658510990213120.000000\n",
      "Minibatch accuracy: 25.0%\n",
      "Validation accuracy: 38.0%\n",
      "Test accuracy: 42.1%\n"
     ]
    }
   ],
   "source": [
    "batch_size = 8\n",
    "\n",
    "graph = tf.Graph()\n",
    "with graph.as_default():\n",
    "\n",
    "  # Input data. For the training data, we use a placeholder that will be fed\n",
    "  # at run time with a training minibatch.\n",
    "  tf_train_dataset = tf.placeholder(tf.float32,\n",
    "                                    shape=(batch_size, image_size * image_size))\n",
    "  tf_train_labels = tf.placeholder(tf.float32, shape=(batch_size, num_labels))\n",
    "  tf_valid_dataset = tf.constant(valid_dataset)\n",
    "  tf_test_dataset = tf.constant(test_dataset)\n",
    "  \n",
    "  # Variables.\n",
    "  h_dim = image_size * image_size * 2\n",
    "  w1 = tf.Variable(\n",
    "    tf.truncated_normal([image_size * image_size, h_dim]))\n",
    "  b1 = tf.Variable(tf.zeros([h_dim]))\n",
    "  \n",
    "  w2 = tf.Variable(\n",
    "    tf.truncated_normal([h_dim, num_labels]))\n",
    "  b2 = tf.Variable(tf.zeros([num_labels]))\n",
    "\n",
    "  # Training computation.\n",
    "  keep_prob = 0.8\n",
    "  logits = tf.matmul(tf.nn.dropout(tf_train_dataset, keep_prob), w1) + b1\n",
    "  logits = tf.nn.relu(logits)\n",
    "  logits = tf.matmul(logits, w2) + b2\n",
    "\n",
    "  loss = tf.reduce_mean(\n",
    "    tf.nn.softmax_cross_entropy_with_logits(logits, tf_train_labels))\n",
    "  loss += 0.001 * tf.nn.l2_loss(w1)\n",
    "  loss += 0.001 * tf.nn.l2_loss(w2)\n",
    "  \n",
    "  # Optimizer.\n",
    "  optimizer = tf.train.GradientDescentOptimizer(0.5).minimize(loss)\n",
    "  \n",
    "  # Predictions for the training, validation, and test data.\n",
    "  train_prediction = tf.nn.softmax(logits)\n",
    "\n",
    "  valid_logits = tf.matmul(tf_valid_dataset, w1) + b1\n",
    "  valid_logits = tf.nn.relu(valid_logits)\n",
    "  valid_logits = tf.matmul(valid_logits, w2) + b2\n",
    "  valid_prediction = tf.nn.softmax(valid_logits)\n",
    "\n",
    "  test_logits = tf.matmul(tf_test_dataset, w1) + b1\n",
    "  test_logits = tf.nn.relu(test_logits)\n",
    "  test_logits = tf.matmul(test_logits, w2) + b2\n",
    "  test_prediction = tf.nn.softmax(test_logits)\n",
    "evaluate(graph, batch_size, train_dataset, train_labels, train_prediction,\n",
    "             valid_prediction, valid_labels, test_prediction, test_labels)"
   ]
  },
  {
   "cell_type": "markdown",
   "metadata": {
    "colab_type": "text",
    "id": "-b1hTz3VWZjw"
   },
   "source": [
    "---\n",
    "Problem 4\n",
    "---------\n",
    "\n",
    "Try to get the best performance you can using a multi-layer model! The best reported test accuracy using a deep network is [97.1%](http://yaroslavvb.blogspot.com/2011/09/notmnist-dataset.html?showComment=1391023266211#c8758720086795711595).\n",
    "\n",
    "One avenue you can explore is to add multiple layers.\n",
    "\n",
    "Another one is to use learning rate decay:\n",
    "\n",
    "    global_step = tf.Variable(0)  # count the number of steps taken.\n",
    "    learning_rate = tf.train.exponential_decay(0.5, global_step, ...)\n",
    "    optimizer = tf.train.GradientDescentOptimizer(learning_rate).minimize(loss, global_step=global_step)\n",
    " \n",
    " ---\n"
   ]
  },
  {
   "cell_type": "markdown",
   "metadata": {},
   "source": [
    "### Learning rate decay"
   ]
  },
  {
   "cell_type": "code",
   "execution_count": 72,
   "metadata": {
    "collapsed": false
   },
   "outputs": [
    {
     "name": "stdout",
     "output_type": "stream",
     "text": [
      "Initialized\n",
      "Minibatch loss at step 0: 1062.656006\n",
      "Minibatch accuracy: 6.2%\n",
      "Validation accuracy: 34.2%\n",
      "Minibatch loss at step 500: 304.320404\n",
      "Minibatch accuracy: 79.7%\n",
      "Validation accuracy: 80.9%\n",
      "Minibatch loss at step 1000: 175.730637\n",
      "Minibatch accuracy: 83.6%\n",
      "Validation accuracy: 82.2%\n",
      "Minibatch loss at step 1500: 105.907669\n",
      "Minibatch accuracy: 77.3%\n",
      "Validation accuracy: 82.0%\n",
      "Minibatch loss at step 2000: 63.359344\n",
      "Minibatch accuracy: 83.6%\n",
      "Validation accuracy: 83.4%\n",
      "Minibatch loss at step 2500: 38.143074\n",
      "Minibatch accuracy: 86.7%\n",
      "Validation accuracy: 85.0%\n",
      "Minibatch loss at step 3000: 23.263596\n",
      "Minibatch accuracy: 85.9%\n",
      "Validation accuracy: 86.2%\n",
      "Test accuracy: 92.4%\n"
     ]
    }
   ],
   "source": [
    "batch_size = 128\n",
    "\n",
    "graph = tf.Graph()\n",
    "with graph.as_default():\n",
    "\n",
    "  # Input data. For the training data, we use a placeholder that will be fed\n",
    "  # at run time with a training minibatch.\n",
    "  tf_train_dataset = tf.placeholder(tf.float32,\n",
    "                                    shape=(batch_size, image_size * image_size))\n",
    "  tf_train_labels = tf.placeholder(tf.float32, shape=(batch_size, num_labels))\n",
    "  tf_valid_dataset = tf.constant(valid_dataset)\n",
    "  tf_test_dataset = tf.constant(test_dataset)\n",
    "  \n",
    "  # Variables.\n",
    "  h_dim = image_size * image_size * 2\n",
    "  w1 = tf.Variable(\n",
    "    tf.truncated_normal([image_size * image_size, h_dim]))\n",
    "  b1 = tf.Variable(tf.zeros([h_dim]))\n",
    "  \n",
    "  w2 = tf.Variable(\n",
    "    tf.truncated_normal([h_dim, num_labels]))\n",
    "  b2 = tf.Variable(tf.zeros([num_labels]))\n",
    "\n",
    "  # Training computation.\n",
    "  keep_prob = 0.90\n",
    "  logits = tf.matmul(tf.nn.dropout(tf_train_dataset, keep_prob), w1) + b1\n",
    "  #logits = tf.matmul(tf_train_dataset, w1) + b1\n",
    "  logits = tf.nn.relu(logits)\n",
    "  logits = tf.matmul(logits, w2) + b2\n",
    "\n",
    "  loss = tf.reduce_mean(\n",
    "    tf.nn.softmax_cross_entropy_with_logits(logits, tf_train_labels))\n",
    "  loss += 0.001 * tf.nn.l2_loss(w1)\n",
    "  loss += 0.001 * tf.nn.l2_loss(w2)\n",
    "  \n",
    "  # Optimizer.\n",
    "  global_step = tf.Variable(0)  # count the number of steps taken.\n",
    "  learning_rate = tf.train.exponential_decay(0.5, global_step, decay_steps=10000, decay_rate=0.96)\n",
    "  optimizer = tf.train.GradientDescentOptimizer(learning_rate).minimize(\n",
    "    loss, global_step=global_step)\n",
    "\n",
    "  optimizer = tf.train.GradientDescentOptimizer(0.5).minimize(loss)\n",
    "  \n",
    "  # Predictions for the training, validation, and test data.\n",
    "  train_prediction = tf.nn.softmax(logits)\n",
    "\n",
    "  valid_logits = tf.matmul(tf_valid_dataset, w1) + b1\n",
    "  valid_logits = tf.nn.relu(valid_logits)\n",
    "  valid_logits = tf.matmul(valid_logits, w2) + b2\n",
    "  valid_prediction = tf.nn.softmax(valid_logits)\n",
    "\n",
    "  test_logits = tf.matmul(tf_test_dataset, w1) + b1\n",
    "  test_logits = tf.nn.relu(test_logits)\n",
    "  test_logits = tf.matmul(test_logits, w2) + b2\n",
    "  test_prediction = tf.nn.softmax(test_logits)\n",
    "evaluate(graph, batch_size, train_dataset, train_labels, train_prediction,\n",
    "             valid_prediction, valid_labels, test_prediction, test_labels)"
   ]
  }
 ],
 "metadata": {
  "colab": {
   "default_view": {},
   "name": "3_regularization.ipynb",
   "provenance": [],
   "version": "0.3.2",
   "views": {}
  },
  "kernelspec": {
   "display_name": "Python 3",
   "language": "python",
   "name": "python3"
  },
  "language_info": {
   "codemirror_mode": {
    "name": "ipython",
    "version": 3
   },
   "file_extension": ".py",
   "mimetype": "text/x-python",
   "name": "python",
   "nbconvert_exporter": "python",
   "pygments_lexer": "ipython3",
   "version": "3.4.4"
  }
 },
 "nbformat": 4,
 "nbformat_minor": 0
}
